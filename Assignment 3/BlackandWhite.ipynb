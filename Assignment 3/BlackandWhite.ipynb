{
 "cells": [
  {
   "cell_type": "code",
   "execution_count": null,
   "id": "867e59ac-dcc2-450b-98e3-629475077483",
   "metadata": {},
   "outputs": [],
   "source": [
    "import cv2\n",
    "\n",
    "# Step 1: Read the grayscale image\n",
    "img_grey = cv2.imread('lenna.jpeg', cv2.IMREAD_GRAYSCALE)\n",
    "\n",
    "# Check if the image was loaded correctly\n",
    "if img_grey is None:\n",
    "    print(\"Error: Image not found or unable to read the image.\")\n",
    "else:\n",
    "    # Step 2: Define a threshold\n",
    "    thresh = 128\n",
    "\n",
    "    # Step 3: Apply the threshold to create a binary image\n",
    "    ret, img_binary = cv2.threshold(img_grey, thresh, 255, cv2.THRESH_BINARY)\n",
    "\n",
    "    # Check if thresholding was successful\n",
    "    if img_binary is not None and img_binary.size > 0:\n",
    "        # Step 4: Save the binary image\n",
    "        success = cv2.imwrite('black-and-white.png', img_binary)\n",
    "        if success:\n",
    "            print(\"Image saved successfully.\")\n",
    "        else:\n",
    "            print(\"Error: Failed to save the image.\")\n",
    "        \n",
    "        # Step 5: Display the binary image\n",
    "        cv2.imshow('Black and White Image', img_binary)\n",
    "        cv2.waitKey(0)  # Wait indefinitely until a key is pressed\n",
    "        cv2.destroyAllWindows()  # Close all OpenCV windows\n",
    "    else:\n",
    "        print(\"Error: Thresholding failed or produced an empty image.\")"
   ]
  }
 ],
 "metadata": {
  "kernelspec": {
   "display_name": "Python 3 (ipykernel)",
   "language": "python",
   "name": "python3"
  },
  "language_info": {
   "codemirror_mode": {
    "name": "ipython",
    "version": 3
   },
   "file_extension": ".py",
   "mimetype": "text/x-python",
   "name": "python",
   "nbconvert_exporter": "python",
   "pygments_lexer": "ipython3",
   "version": "3.12.3"
  }
 },
 "nbformat": 4,
 "nbformat_minor": 5
}
